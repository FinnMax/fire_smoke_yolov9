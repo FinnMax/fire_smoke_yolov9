{
 "cells": [
  {
   "cell_type": "code",
   "execution_count": 1,
   "id": "2db3ab10-d6bd-45bb-ac43-b4d5e88ff9f5",
   "metadata": {},
   "outputs": [],
   "source": [
    "import os\n",
    "os.environ['TORCH_FORCE_NO_WEIGHTS_ONLY_LOAD'] = '1'"
   ]
  },
  {
   "cell_type": "code",
   "execution_count": null,
   "id": "630573b9-5f11-4da3-9c15-c87758ce9f99",
   "metadata": {},
   "outputs": [],
   "source": [
    "!python yolov9/val.py \\\n",
    "--img 640 --batch 16 --conf 0.3 --iou 0.5 --device 0 \\\n",
    "--data /train.yaml \\\n",
    "--weights /yolov9/runs/train/gelan_c_300ep_smoke_opt/weights/best.pt"
   ]
  },
  {
   "cell_type": "code",
   "execution_count": null,
   "id": "270a263b-4bd2-442d-9f00-e92d5890f473",
   "metadata": {},
   "outputs": [],
   "source": [
    "!python yolov9/detect.py \\\n",
    "--img 1280 --conf 0.3 --device 0 \\\n",
    "--weights /yolov9/runs/train/gelan_c_300ep_smoke_opt/weights/best.pt \\\n",
    "--source /dataset_val/images/val"
   ]
  }
 ],
 "metadata": {
  "kernelspec": {
   "display_name": "Python 3 (ipykernel)",
   "language": "python",
   "name": "python3"
  },
  "language_info": {
   "codemirror_mode": {
    "name": "ipython",
    "version": 3
   },
   "file_extension": ".py",
   "mimetype": "text/x-python",
   "name": "python",
   "nbconvert_exporter": "python",
   "pygments_lexer": "ipython3",
   "version": "3.10.16"
  }
 },
 "nbformat": 4,
 "nbformat_minor": 5
}
