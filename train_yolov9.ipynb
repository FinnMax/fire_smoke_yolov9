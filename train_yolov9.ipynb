{
 "cells": [
  {
   "cell_type": "code",
   "execution_count": 1,
   "id": "1c1cf3ee-83e5-40ce-94ab-0538cc8a9558",
   "metadata": {},
   "outputs": [],
   "source": [
    "import json\n",
    "import os\n",
    "import subprocess\n",
    "from tqdm import tqdm\n",
    "from collections import Counter"
   ]
  },
  {
   "cell_type": "code",
   "execution_count": 2,
   "id": "b37cd347-6db5-4192-9ea2-77eb91518934",
   "metadata": {},
   "outputs": [],
   "source": [
    "os.environ['TORCH_FORCE_NO_WEIGHTS_ONLY_LOAD'] = '1'"
   ]
  },
  {
   "cell_type": "code",
   "execution_count": 3,
   "id": "e2dee068-4dfa-4f8b-9984-cf785eb968d8",
   "metadata": {},
   "outputs": [],
   "source": [
    "HOME = \"your_main_directory\""
   ]
  },
  {
   "cell_type": "code",
   "execution_count": 4,
   "id": "dfcb1a4e-a1d6-4994-892e-a1f8108300f4",
   "metadata": {},
   "outputs": [],
   "source": [
    "# Training data paths\n",
    "coco_json_path_train = f\"{HOME}/dataset_train/annotations/instances_default.json\"\n",
    "image_dir_train = f\"{HOME}/dataset_train/images/train\"    \n",
    "output_dir_train = f\"{HOME}/dataset_train/labels/train\"  \n",
    "\n",
    "# Validation data paths\n",
    "coco_json_path_val = f\"{HOME}/dataset_val/annotations/instances_default.json\" \n",
    "image_dir_val = f\"{HOME}/dataset_val/images/val\"          \n",
    "output_dir_val = f\"{HOME}/dataset_val/labels/val\"         "
   ]
  },
  {
   "cell_type": "code",
   "execution_count": 10,
   "id": "350a7255-025d-4c79-ba5c-55b1ed743d28",
   "metadata": {},
   "outputs": [],
   "source": [
    "category_map = {\n",
    "    4: 0,  # smoke → class 0\n",
    "    5: 1   # fire → class 1\n",
    "    # All other categories will be ignored\n",
    "}"
   ]
  },
  {
   "cell_type": "code",
   "execution_count": 6,
   "id": "6372530e-eca8-48a2-840f-32541f04ba0a",
   "metadata": {},
   "outputs": [],
   "source": [
    "def coco_to_yolo(coco_json_path, image_dir, output_dir):\n",
    "    # Load COCO JSON\n",
    "    with open(coco_json_path) as f:\n",
    "        data = json.load(f)\n",
    "    \n",
    "    # Create output directory\n",
    "    os.makedirs(output_dir, exist_ok=True)\n",
    "    \n",
    "    # Statistics\n",
    "    class_counts = Counter()\n",
    "    skipped_annotations = 0\n",
    "    \n",
    "    for img in tqdm(data[\"images\"], desc=\"Processing images\"):\n",
    "        img_id = img[\"id\"]\n",
    "        img_width = img[\"width\"]\n",
    "        img_height = img[\"height\"]\n",
    "        image_name = os.path.basename(img[\"file_name\"])\n",
    "        \n",
    "        # Verify image exists\n",
    "        image_path = os.path.join(image_dir, image_name)\n",
    "        if not os.path.exists(image_path):\n",
    "            print(f\"\\nMissing image: {image_path}\")\n",
    "            continue\n",
    "        \n",
    "        # Prepare label file\n",
    "        label_name = os.path.splitext(image_name)[0] + \".txt\"\n",
    "        label_path = os.path.join(output_dir, label_name)\n",
    "        \n",
    "        # Get only fire/smoke annotations for this image\n",
    "        annotations = [\n",
    "            ann for ann in data[\"annotations\"] \n",
    "            if ann[\"image_id\"] == img_id \n",
    "            and ann[\"category_id\"] in category_map\n",
    "        ]\n",
    "        \n",
    "        # Write YOLO format labels\n",
    "        with open(label_path, \"w\") as f_out:\n",
    "            for ann in annotations:\n",
    "                # Skip if not fire or smoke\n",
    "                if ann[\"category_id\"] not in category_map:\n",
    "                    skipped_annotations += 1\n",
    "                    continue\n",
    "                \n",
    "                # Convert COCO bbox to YOLO format\n",
    "                x_min, y_min, w, h = ann[\"bbox\"]\n",
    "                x_center = (x_min + w / 2) / img_width\n",
    "                y_center = (y_min + h / 2) / img_height\n",
    "                w_norm = w / img_width\n",
    "                h_norm = h / img_height\n",
    "                \n",
    "                # Get remapped class ID\n",
    "                class_id = category_map[ann[\"category_id\"]]\n",
    "                class_counts[class_id] += 1\n",
    "                \n",
    "                # Write to file\n",
    "                f_out.write(f\"{class_id} {x_center:.6f} {y_center:.6f} {w_norm:.6f} {h_norm:.6f}\\n\")\n",
    "    \n",
    "    # Print conversion statistics\n",
    "    print(\"\\nConversion Statistics:\")\n",
    "    print(f\"- Total images processed: {len(data['images'])}\")\n",
    "    print(f\"- Fire/Smoke annotations kept: {sum(class_counts.values())}\")\n",
    "    print(f\"- Other annotations skipped: {skipped_annotations}\")\n",
    "    print(\"Class distribution:\")\n",
    "    for class_id, count in class_counts.most_common():\n",
    "        print(f\"  Class {class_id}: {count} annotations\")\n",
    "\n"
   ]
  },
  {
   "cell_type": "code",
   "execution_count": 11,
   "id": "fa93ba51-342d-491f-a251-0a15f127ba95",
   "metadata": {},
   "outputs": [
    {
     "name": "stdout",
     "output_type": "stream",
     "text": [
      "Processing TRAINING set:\n"
     ]
    },
    {
     "name": "stderr",
     "output_type": "stream",
     "text": [
      "Processing images: 100%|█████████████████████████████████████████████████████████| 1142/1142 [00:00<00:00, 3138.41it/s]"
     ]
    },
    {
     "name": "stdout",
     "output_type": "stream",
     "text": [
      "\n",
      "Conversion Statistics:\n",
      "- Total images processed: 1142\n",
      "- Fire/Smoke annotations kept: 4441\n",
      "- Other annotations skipped: 0\n",
      "Class distribution:\n",
      "  Class 1: 2914 annotations\n",
      "  Class 0: 1527 annotations\n"
     ]
    },
    {
     "name": "stderr",
     "output_type": "stream",
     "text": [
      "\n"
     ]
    }
   ],
   "source": [
    "# ===== Convert TRAIN set =====\n",
    "print(\"Processing TRAINING set:\")\n",
    "coco_to_yolo(\n",
    "    coco_json_path=coco_json_path_train,\n",
    "    image_dir=image_dir_train,\n",
    "    output_dir=output_dir_train\n",
    ")"
   ]
  },
  {
   "cell_type": "code",
   "execution_count": 12,
   "id": "1d6146d5-d4d7-42d8-a8b9-6ca1417f4135",
   "metadata": {},
   "outputs": [
    {
     "name": "stdout",
     "output_type": "stream",
     "text": [
      "\n",
      "Processing VALIDATION set:\n"
     ]
    },
    {
     "name": "stderr",
     "output_type": "stream",
     "text": [
      "Processing images: 100%|███████████████████████████████████████████████████████████| 308/308 [00:00<00:00, 5506.54it/s]"
     ]
    },
    {
     "name": "stdout",
     "output_type": "stream",
     "text": [
      "\n",
      "Conversion Statistics:\n",
      "- Total images processed: 308\n",
      "- Fire/Smoke annotations kept: 1285\n",
      "- Other annotations skipped: 0\n",
      "Class distribution:\n",
      "  Class 1: 761 annotations\n",
      "  Class 0: 524 annotations\n"
     ]
    },
    {
     "name": "stderr",
     "output_type": "stream",
     "text": [
      "\n"
     ]
    }
   ],
   "source": [
    "print(\"\\nProcessing VALIDATION set:\")\n",
    "coco_to_yolo(\n",
    "    coco_json_path=coco_json_path_val,\n",
    "    image_dir=image_dir_val,\n",
    "    output_dir=output_dir_val\n",
    ")"
   ]
  },
  {
   "cell_type": "code",
   "execution_count": null,
   "id": "3261ba11-b105-4ef2-97d8-17503a3859e8",
   "metadata": {},
   "outputs": [],
   "source": [
    "!python train.py \\\n",
    "--data \"/train.yaml\" \\\n",
    "--weights \"\" \\\n",
    "--cfg models/detect/gelan-c.yaml \\\n",
    "--imgsz 640 \\\n",
    "--batch-size 12 \\\n",
    "--epochs 300 \\\n",
    "--optimizer AdamW \\\n",
    "--device 0 \\\n",
    "--hyp data/hyps/hyp.scratch-high.yaml \\\n",
    "--workers 1 \\\n",
    "--cache ram \\\n",
    "--name gelan_c_300ep_smoke_opt"
   ]
  }
 ],
 "metadata": {
  "kernelspec": {
   "display_name": "Python 3 (ipykernel)",
   "language": "python",
   "name": "python3"
  },
  "language_info": {
   "codemirror_mode": {
    "name": "ipython",
    "version": 3
   },
   "file_extension": ".py",
   "mimetype": "text/x-python",
   "name": "python",
   "nbconvert_exporter": "python",
   "pygments_lexer": "ipython3",
   "version": "3.10.16"
  }
 },
 "nbformat": 4,
 "nbformat_minor": 5
}
